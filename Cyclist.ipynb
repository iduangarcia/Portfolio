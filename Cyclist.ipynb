{
 "cells": [
  {
   "cell_type": "markdown",
   "metadata": {},
   "source": [
    "# Cyclistic Proyecto "
   ]
  },
  {
   "cell_type": "markdown",
   "metadata": {},
   "source": [
    "Eres un analista de datos júnior que trabaja en el equipo de analistas de marketing de Cyclistic, una empresa de bicicletas compartidas de Chicago. La directora de marketing cree que el éxito futuro de la empresa depende de maximizar la cantidad de membresías anuales. Por lo tanto, tu equipo quiere entender qué diferencias existen en el uso de las bicicletas Cyclistic entre los ciclistas ocasionales y los miembros anuales. A través de estos conocimientos, tu equipo diseñará una nueva estrategia de marketing para convertir a los ciclistas ocasionales en miembros anuales. Sin embargo, antes de eso, los ejecutivos de Cyclistic deben aprobar tus recomendaciones; por eso, debes respaldar tu propuesta con una visión convincente de los datos y visualizaciones profesionales de los mismos.\n",
    "\n",
    "\n",
    "Hasta ahora, la estrategia de marketing de Cyclistic se basaba en la construcción de un reconocimiento de marca general y en atraer a amplios segmentos de consumidores. Uno de los enfoques que ayudó a hacer esto posible fue la flexibilidad de sus planes de precios: pases de un solo viaje, pases de un día completo y membresías anuales. A los clientes que compran pases de un solo viaje o pases de un día completo se los llama ciclistas ocasionales. Los clientes que compran membresías anuales se llaman miembros de Cyclistic.\n",
    "\n",
    "\n",
    "El equipo de Marketing estableció una meta clara: Diseñar estrategias de marketing orientadas a convertir a los ciclistas ocasionales en miembros anuales. Sin embargo, para hacer eso, el equipo de analistas de marketing necesita entender mejor cómo difieren los miembros anuales y los ciclistas ocasionales, por qué los ciclistas ocasionales comprarían una membresía y cómo los medios digitales podrían afectar sus tácticas de marketing. El equipo están interesados en analizar los datos históricos de viajes en bicicleta de Cyclistic para identificar tendencias.\n",
    "\n",
    "El Jefe de marketing te asigno la siguiente pregunta: ¿En qué se diferencian los socios anuales y los ciclistas ocasionales con respecto al uso de las bicicletas de Cyclistic?"
   ]
  },
  {
   "cell_type": "markdown",
   "metadata": {},
   "source": [
    "# Lectura de Datos"
   ]
  },
  {
   "cell_type": "markdown",
   "metadata": {},
   "source": [
    "Vamos a importar las librerias que utilizaremos"
   ]
  },
  {
   "cell_type": "code",
   "execution_count": null,
   "metadata": {},
   "outputs": [],
   "source": [
    "import pandas as pd #data frames\n",
    "import numpy as np  #funciones numericas\n",
    "import matplotlib.pyplot as plt #graficar\n",
    "import seaborn as sns\n",
    "import mplfinance as mpf"
   ]
  },
  {
   "cell_type": "markdown",
   "metadata": {},
   "source": [
    "Vamos a asignar una variable a cada data frame"
   ]
  },
  {
   "cell_type": "code",
   "execution_count": 4,
   "metadata": {},
   "outputs": [],
   "source": [
    "df1=pd.read_csv('Trip_Q1.csv')\n",
    "df2=pd.read_csv('Trip_Q2.csv')\n",
    "df3=pd.read_csv('Trip_Q3.csv')\n",
    "df4=pd.read_csv('Trip_Q4.csv')\n",
    "df5=pd.read_csv('Trip_Q5.csv')\n",
    "df6=pd.read_csv('Trip_Q6.csv')\n",
    "df7=pd.read_csv('Trip_Q7.csv')\n",
    "df8=pd.read_csv('Trip_Q8.csv')\n",
    "df9=pd.read_csv('Trip_Q9.csv')\n",
    "df10=pd.read_csv('Trip_Q10.csv')\n",
    "df11=pd.read_csv('Trip_Q11.csv')\n",
    "df12=pd.read_csv('Trip_Q12.csv')\n"
   ]
  },
  {
   "cell_type": "markdown",
   "metadata": {},
   "source": [
    "# Exploracion de Datos "
   ]
  },
  {
   "cell_type": "markdown",
   "metadata": {},
   "source": [
    "Queremos ver la informacion relevante, que variables y tipo de datos contiene "
   ]
  },
  {
   "cell_type": "code",
   "execution_count": 85,
   "metadata": {},
   "outputs": [
    {
     "name": "stdout",
     "output_type": "stream",
     "text": [
      "<class 'pandas.core.frame.DataFrame'>\n",
      "RangeIndex: 181806 entries, 0 to 181805\n",
      "Data columns (total 15 columns):\n",
      " #   Column              Non-Null Count   Dtype          \n",
      "---  ------              --------------   -----          \n",
      " 0   ride_id             181806 non-null  object         \n",
      " 1   rideable_type       181806 non-null  object         \n",
      " 2   started_at          181806 non-null  datetime64[ns] \n",
      " 3   ended_at            181806 non-null  datetime64[ns] \n",
      " 4   start_station_name  152523 non-null  object         \n",
      " 5   start_station_id    152523 non-null  object         \n",
      " 6   end_station_name    150648 non-null  object         \n",
      " 7   end_station_id      150648 non-null  object         \n",
      " 8   start_lat           181806 non-null  float64        \n",
      " 9   start_lng           181806 non-null  float64        \n",
      " 10  end_lat             181678 non-null  float64        \n",
      " 11  end_lng             181678 non-null  float64        \n",
      " 12  member_casual       181806 non-null  object         \n",
      " 13  ride_time           181806 non-null  timedelta64[ns]\n",
      " 14  weekday             181806 non-null  object         \n",
      "dtypes: datetime64[ns](2), float64(4), object(8), timedelta64[ns](1)\n",
      "memory usage: 20.8+ MB\n"
     ]
    }
   ],
   "source": [
    "df1.info()\n"
   ]
  },
  {
   "cell_type": "markdown",
   "metadata": {},
   "source": [
    "Vizualizamos las primeras lineas del Data Frame "
   ]
  },
  {
   "cell_type": "code",
   "execution_count": 65,
   "metadata": {},
   "outputs": [
    {
     "data": {
      "text/html": [
       "<div>\n",
       "<style scoped>\n",
       "    .dataframe tbody tr th:only-of-type {\n",
       "        vertical-align: middle;\n",
       "    }\n",
       "\n",
       "    .dataframe tbody tr th {\n",
       "        vertical-align: top;\n",
       "    }\n",
       "\n",
       "    .dataframe thead th {\n",
       "        text-align: right;\n",
       "    }\n",
       "</style>\n",
       "<table border=\"1\" class=\"dataframe\">\n",
       "  <thead>\n",
       "    <tr style=\"text-align: right;\">\n",
       "      <th></th>\n",
       "      <th>ride_id</th>\n",
       "      <th>rideable_type</th>\n",
       "      <th>started_at</th>\n",
       "      <th>ended_at</th>\n",
       "      <th>start_station_name</th>\n",
       "      <th>start_station_id</th>\n",
       "      <th>end_station_name</th>\n",
       "      <th>end_station_id</th>\n",
       "      <th>start_lat</th>\n",
       "      <th>start_lng</th>\n",
       "      <th>end_lat</th>\n",
       "      <th>end_lng</th>\n",
       "      <th>member_casual</th>\n",
       "      <th>ride_time</th>\n",
       "      <th>weekday</th>\n",
       "    </tr>\n",
       "  </thead>\n",
       "  <tbody>\n",
       "    <tr>\n",
       "      <th>0</th>\n",
       "      <td>65DBD2F447EC51C2</td>\n",
       "      <td>electric_bike</td>\n",
       "      <td>2022-12-05 10:47:18</td>\n",
       "      <td>2022-12-05 10:56:34</td>\n",
       "      <td>Clifton Ave &amp; Armitage Ave</td>\n",
       "      <td>TA1307000163</td>\n",
       "      <td>Sedgwick St &amp; Webster Ave</td>\n",
       "      <td>13191</td>\n",
       "      <td>41.918244</td>\n",
       "      <td>-87.657115</td>\n",
       "      <td>41.922167</td>\n",
       "      <td>-87.638888</td>\n",
       "      <td>member</td>\n",
       "      <td>0 days 00:09:16</td>\n",
       "      <td>Monday</td>\n",
       "    </tr>\n",
       "    <tr>\n",
       "      <th>1</th>\n",
       "      <td>0C201AA7EA0EA1AD</td>\n",
       "      <td>classic_bike</td>\n",
       "      <td>2022-12-18 06:42:33</td>\n",
       "      <td>2022-12-18 07:08:44</td>\n",
       "      <td>Broadway &amp; Belmont Ave</td>\n",
       "      <td>13277</td>\n",
       "      <td>Sedgwick St &amp; Webster Ave</td>\n",
       "      <td>13191</td>\n",
       "      <td>41.940106</td>\n",
       "      <td>-87.645451</td>\n",
       "      <td>41.922167</td>\n",
       "      <td>-87.638888</td>\n",
       "      <td>casual</td>\n",
       "      <td>0 days 00:26:11</td>\n",
       "      <td>Sunday</td>\n",
       "    </tr>\n",
       "    <tr>\n",
       "      <th>2</th>\n",
       "      <td>E0B148CCB358A49D</td>\n",
       "      <td>electric_bike</td>\n",
       "      <td>2022-12-13 08:47:45</td>\n",
       "      <td>2022-12-13 08:59:51</td>\n",
       "      <td>Sangamon St &amp; Lake St</td>\n",
       "      <td>TA1306000015</td>\n",
       "      <td>St. Clair St &amp; Erie St</td>\n",
       "      <td>13016</td>\n",
       "      <td>41.885919</td>\n",
       "      <td>-87.651133</td>\n",
       "      <td>41.894345</td>\n",
       "      <td>-87.622798</td>\n",
       "      <td>member</td>\n",
       "      <td>0 days 00:12:06</td>\n",
       "      <td>Tuesday</td>\n",
       "    </tr>\n",
       "    <tr>\n",
       "      <th>3</th>\n",
       "      <td>54C5775D2B7C9188</td>\n",
       "      <td>classic_bike</td>\n",
       "      <td>2022-12-13 18:50:47</td>\n",
       "      <td>2022-12-13 19:19:48</td>\n",
       "      <td>Shields Ave &amp; 31st St</td>\n",
       "      <td>KA1503000038</td>\n",
       "      <td>Damen Ave &amp; Madison St</td>\n",
       "      <td>13134</td>\n",
       "      <td>41.838464</td>\n",
       "      <td>-87.635406</td>\n",
       "      <td>41.881370</td>\n",
       "      <td>-87.674930</td>\n",
       "      <td>member</td>\n",
       "      <td>0 days 00:29:01</td>\n",
       "      <td>Tuesday</td>\n",
       "    </tr>\n",
       "    <tr>\n",
       "      <th>4</th>\n",
       "      <td>A4891F78776D35DF</td>\n",
       "      <td>classic_bike</td>\n",
       "      <td>2022-12-14 16:13:39</td>\n",
       "      <td>2022-12-14 16:27:50</td>\n",
       "      <td>Ashland Ave &amp; Chicago Ave</td>\n",
       "      <td>13247</td>\n",
       "      <td>Damen Ave &amp; Charleston St</td>\n",
       "      <td>13288</td>\n",
       "      <td>41.895954</td>\n",
       "      <td>-87.667728</td>\n",
       "      <td>41.920082</td>\n",
       "      <td>-87.677855</td>\n",
       "      <td>casual</td>\n",
       "      <td>0 days 00:14:11</td>\n",
       "      <td>Wednesday</td>\n",
       "    </tr>\n",
       "  </tbody>\n",
       "</table>\n",
       "</div>"
      ],
      "text/plain": [
       "            ride_id  rideable_type          started_at            ended_at  \\\n",
       "0  65DBD2F447EC51C2  electric_bike 2022-12-05 10:47:18 2022-12-05 10:56:34   \n",
       "1  0C201AA7EA0EA1AD   classic_bike 2022-12-18 06:42:33 2022-12-18 07:08:44   \n",
       "2  E0B148CCB358A49D  electric_bike 2022-12-13 08:47:45 2022-12-13 08:59:51   \n",
       "3  54C5775D2B7C9188   classic_bike 2022-12-13 18:50:47 2022-12-13 19:19:48   \n",
       "4  A4891F78776D35DF   classic_bike 2022-12-14 16:13:39 2022-12-14 16:27:50   \n",
       "\n",
       "           start_station_name start_station_id           end_station_name  \\\n",
       "0  Clifton Ave & Armitage Ave     TA1307000163  Sedgwick St & Webster Ave   \n",
       "1      Broadway & Belmont Ave            13277  Sedgwick St & Webster Ave   \n",
       "2       Sangamon St & Lake St     TA1306000015     St. Clair St & Erie St   \n",
       "3       Shields Ave & 31st St     KA1503000038     Damen Ave & Madison St   \n",
       "4   Ashland Ave & Chicago Ave            13247  Damen Ave & Charleston St   \n",
       "\n",
       "  end_station_id  start_lat  start_lng    end_lat    end_lng member_casual  \\\n",
       "0          13191  41.918244 -87.657115  41.922167 -87.638888        member   \n",
       "1          13191  41.940106 -87.645451  41.922167 -87.638888        casual   \n",
       "2          13016  41.885919 -87.651133  41.894345 -87.622798        member   \n",
       "3          13134  41.838464 -87.635406  41.881370 -87.674930        member   \n",
       "4          13288  41.895954 -87.667728  41.920082 -87.677855        casual   \n",
       "\n",
       "        ride_time    weekday  \n",
       "0 0 days 00:09:16     Monday  \n",
       "1 0 days 00:26:11     Sunday  \n",
       "2 0 days 00:12:06    Tuesday  \n",
       "3 0 days 00:29:01    Tuesday  \n",
       "4 0 days 00:14:11  Wednesday  "
      ]
     },
     "execution_count": 65,
     "metadata": {},
     "output_type": "execute_result"
    }
   ],
   "source": [
    "df1.head()"
   ]
  },
  {
   "cell_type": "markdown",
   "metadata": {},
   "source": [
    "# Limpieza y Transformaación "
   ]
  },
  {
   "cell_type": "markdown",
   "metadata": {},
   "source": [
    "Queremos agreagar una columna extra que contenga la duracion de cada viaje. Lo primero es modificar el tipo de datos de object a datetime de las columnas 'started_at' y 'ended_at' "
   ]
  },
  {
   "cell_type": "code",
   "execution_count": 6,
   "metadata": {},
   "outputs": [
    {
     "name": "stdout",
     "output_type": "stream",
     "text": [
      "<class 'pandas.core.frame.DataFrame'>\n",
      "RangeIndex: 181806 entries, 0 to 181805\n",
      "Data columns (total 13 columns):\n",
      " #   Column              Non-Null Count   Dtype         \n",
      "---  ------              --------------   -----         \n",
      " 0   ride_id             181806 non-null  object        \n",
      " 1   rideable_type       181806 non-null  object        \n",
      " 2   started_at          181806 non-null  datetime64[ns]\n",
      " 3   ended_at            181806 non-null  datetime64[ns]\n",
      " 4   start_station_name  152523 non-null  object        \n",
      " 5   start_station_id    152523 non-null  object        \n",
      " 6   end_station_name    150648 non-null  object        \n",
      " 7   end_station_id      150648 non-null  object        \n",
      " 8   start_lat           181806 non-null  float64       \n",
      " 9   start_lng           181806 non-null  float64       \n",
      " 10  end_lat             181678 non-null  float64       \n",
      " 11  end_lng             181678 non-null  float64       \n",
      " 12  member_casual       181806 non-null  object        \n",
      "dtypes: datetime64[ns](2), float64(4), object(7)\n",
      "memory usage: 18.0+ MB\n"
     ]
    }
   ],
   "source": [
    "df1['started_at']= pd.to_datetime(df1['started_at'])\n",
    "df1['ended_at']= pd.to_datetime(df1['ended_at'])\n",
    "df1.info()"
   ]
  },
  {
   "cell_type": "markdown",
   "metadata": {},
   "source": [
    "Ahora que estan en formato de fecha agregamos otra columa para calcular la duracion de cada viaje. \n"
   ]
  },
  {
   "cell_type": "code",
   "execution_count": 7,
   "metadata": {},
   "outputs": [
    {
     "name": "stdout",
     "output_type": "stream",
     "text": [
      "<class 'pandas.core.frame.DataFrame'>\n",
      "RangeIndex: 181806 entries, 0 to 181805\n",
      "Data columns (total 14 columns):\n",
      " #   Column              Non-Null Count   Dtype          \n",
      "---  ------              --------------   -----          \n",
      " 0   ride_id             181806 non-null  object         \n",
      " 1   rideable_type       181806 non-null  object         \n",
      " 2   started_at          181806 non-null  datetime64[ns] \n",
      " 3   ended_at            181806 non-null  datetime64[ns] \n",
      " 4   start_station_name  152523 non-null  object         \n",
      " 5   start_station_id    152523 non-null  object         \n",
      " 6   end_station_name    150648 non-null  object         \n",
      " 7   end_station_id      150648 non-null  object         \n",
      " 8   start_lat           181806 non-null  float64        \n",
      " 9   start_lng           181806 non-null  float64        \n",
      " 10  end_lat             181678 non-null  float64        \n",
      " 11  end_lng             181678 non-null  float64        \n",
      " 12  member_casual       181806 non-null  object         \n",
      " 13  ride_time           181806 non-null  timedelta64[ns]\n",
      "dtypes: datetime64[ns](2), float64(4), object(7), timedelta64[ns](1)\n",
      "memory usage: 19.4+ MB\n"
     ]
    }
   ],
   "source": [
    "df1['ride_time']= df1['ended_at'] - df1['started_at']\n",
    "df1.info()"
   ]
  },
  {
   "cell_type": "markdown",
   "metadata": {},
   "source": [
    "ahora añadieremos una columna que nos diga que dia de la semana se efectuo el viaje\n"
   ]
  },
  {
   "cell_type": "code",
   "execution_count": 8,
   "metadata": {},
   "outputs": [
    {
     "name": "stdout",
     "output_type": "stream",
     "text": [
      "<class 'pandas.core.frame.DataFrame'>\n",
      "RangeIndex: 181806 entries, 0 to 181805\n",
      "Data columns (total 15 columns):\n",
      " #   Column              Non-Null Count   Dtype          \n",
      "---  ------              --------------   -----          \n",
      " 0   ride_id             181806 non-null  object         \n",
      " 1   rideable_type       181806 non-null  object         \n",
      " 2   started_at          181806 non-null  datetime64[ns] \n",
      " 3   ended_at            181806 non-null  datetime64[ns] \n",
      " 4   start_station_name  152523 non-null  object         \n",
      " 5   start_station_id    152523 non-null  object         \n",
      " 6   end_station_name    150648 non-null  object         \n",
      " 7   end_station_id      150648 non-null  object         \n",
      " 8   start_lat           181806 non-null  float64        \n",
      " 9   start_lng           181806 non-null  float64        \n",
      " 10  end_lat             181678 non-null  float64        \n",
      " 11  end_lng             181678 non-null  float64        \n",
      " 12  member_casual       181806 non-null  object         \n",
      " 13  ride_time           181806 non-null  timedelta64[ns]\n",
      " 14  weekday             181806 non-null  object         \n",
      "dtypes: datetime64[ns](2), float64(4), object(8), timedelta64[ns](1)\n",
      "memory usage: 20.8+ MB\n"
     ]
    },
    {
     "data": {
      "text/html": [
       "<div>\n",
       "<style scoped>\n",
       "    .dataframe tbody tr th:only-of-type {\n",
       "        vertical-align: middle;\n",
       "    }\n",
       "\n",
       "    .dataframe tbody tr th {\n",
       "        vertical-align: top;\n",
       "    }\n",
       "\n",
       "    .dataframe thead th {\n",
       "        text-align: right;\n",
       "    }\n",
       "</style>\n",
       "<table border=\"1\" class=\"dataframe\">\n",
       "  <thead>\n",
       "    <tr style=\"text-align: right;\">\n",
       "      <th></th>\n",
       "      <th>ride_id</th>\n",
       "      <th>rideable_type</th>\n",
       "      <th>started_at</th>\n",
       "      <th>ended_at</th>\n",
       "      <th>start_station_name</th>\n",
       "      <th>start_station_id</th>\n",
       "      <th>end_station_name</th>\n",
       "      <th>end_station_id</th>\n",
       "      <th>start_lat</th>\n",
       "      <th>start_lng</th>\n",
       "      <th>end_lat</th>\n",
       "      <th>end_lng</th>\n",
       "      <th>member_casual</th>\n",
       "      <th>ride_time</th>\n",
       "      <th>weekday</th>\n",
       "    </tr>\n",
       "  </thead>\n",
       "  <tbody>\n",
       "    <tr>\n",
       "      <th>0</th>\n",
       "      <td>65DBD2F447EC51C2</td>\n",
       "      <td>electric_bike</td>\n",
       "      <td>2022-12-05 10:47:18</td>\n",
       "      <td>2022-12-05 10:56:34</td>\n",
       "      <td>Clifton Ave &amp; Armitage Ave</td>\n",
       "      <td>TA1307000163</td>\n",
       "      <td>Sedgwick St &amp; Webster Ave</td>\n",
       "      <td>13191</td>\n",
       "      <td>41.918244</td>\n",
       "      <td>-87.657115</td>\n",
       "      <td>41.922167</td>\n",
       "      <td>-87.638888</td>\n",
       "      <td>member</td>\n",
       "      <td>0 days 00:09:16</td>\n",
       "      <td>Monday</td>\n",
       "    </tr>\n",
       "    <tr>\n",
       "      <th>1</th>\n",
       "      <td>0C201AA7EA0EA1AD</td>\n",
       "      <td>classic_bike</td>\n",
       "      <td>2022-12-18 06:42:33</td>\n",
       "      <td>2022-12-18 07:08:44</td>\n",
       "      <td>Broadway &amp; Belmont Ave</td>\n",
       "      <td>13277</td>\n",
       "      <td>Sedgwick St &amp; Webster Ave</td>\n",
       "      <td>13191</td>\n",
       "      <td>41.940106</td>\n",
       "      <td>-87.645451</td>\n",
       "      <td>41.922167</td>\n",
       "      <td>-87.638888</td>\n",
       "      <td>casual</td>\n",
       "      <td>0 days 00:26:11</td>\n",
       "      <td>Sunday</td>\n",
       "    </tr>\n",
       "    <tr>\n",
       "      <th>2</th>\n",
       "      <td>E0B148CCB358A49D</td>\n",
       "      <td>electric_bike</td>\n",
       "      <td>2022-12-13 08:47:45</td>\n",
       "      <td>2022-12-13 08:59:51</td>\n",
       "      <td>Sangamon St &amp; Lake St</td>\n",
       "      <td>TA1306000015</td>\n",
       "      <td>St. Clair St &amp; Erie St</td>\n",
       "      <td>13016</td>\n",
       "      <td>41.885919</td>\n",
       "      <td>-87.651133</td>\n",
       "      <td>41.894345</td>\n",
       "      <td>-87.622798</td>\n",
       "      <td>member</td>\n",
       "      <td>0 days 00:12:06</td>\n",
       "      <td>Tuesday</td>\n",
       "    </tr>\n",
       "    <tr>\n",
       "      <th>3</th>\n",
       "      <td>54C5775D2B7C9188</td>\n",
       "      <td>classic_bike</td>\n",
       "      <td>2022-12-13 18:50:47</td>\n",
       "      <td>2022-12-13 19:19:48</td>\n",
       "      <td>Shields Ave &amp; 31st St</td>\n",
       "      <td>KA1503000038</td>\n",
       "      <td>Damen Ave &amp; Madison St</td>\n",
       "      <td>13134</td>\n",
       "      <td>41.838464</td>\n",
       "      <td>-87.635406</td>\n",
       "      <td>41.881370</td>\n",
       "      <td>-87.674930</td>\n",
       "      <td>member</td>\n",
       "      <td>0 days 00:29:01</td>\n",
       "      <td>Tuesday</td>\n",
       "    </tr>\n",
       "    <tr>\n",
       "      <th>4</th>\n",
       "      <td>A4891F78776D35DF</td>\n",
       "      <td>classic_bike</td>\n",
       "      <td>2022-12-14 16:13:39</td>\n",
       "      <td>2022-12-14 16:27:50</td>\n",
       "      <td>Ashland Ave &amp; Chicago Ave</td>\n",
       "      <td>13247</td>\n",
       "      <td>Damen Ave &amp; Charleston St</td>\n",
       "      <td>13288</td>\n",
       "      <td>41.895954</td>\n",
       "      <td>-87.667728</td>\n",
       "      <td>41.920082</td>\n",
       "      <td>-87.677855</td>\n",
       "      <td>casual</td>\n",
       "      <td>0 days 00:14:11</td>\n",
       "      <td>Wednesday</td>\n",
       "    </tr>\n",
       "  </tbody>\n",
       "</table>\n",
       "</div>"
      ],
      "text/plain": [
       "            ride_id  rideable_type          started_at            ended_at  \\\n",
       "0  65DBD2F447EC51C2  electric_bike 2022-12-05 10:47:18 2022-12-05 10:56:34   \n",
       "1  0C201AA7EA0EA1AD   classic_bike 2022-12-18 06:42:33 2022-12-18 07:08:44   \n",
       "2  E0B148CCB358A49D  electric_bike 2022-12-13 08:47:45 2022-12-13 08:59:51   \n",
       "3  54C5775D2B7C9188   classic_bike 2022-12-13 18:50:47 2022-12-13 19:19:48   \n",
       "4  A4891F78776D35DF   classic_bike 2022-12-14 16:13:39 2022-12-14 16:27:50   \n",
       "\n",
       "           start_station_name start_station_id           end_station_name  \\\n",
       "0  Clifton Ave & Armitage Ave     TA1307000163  Sedgwick St & Webster Ave   \n",
       "1      Broadway & Belmont Ave            13277  Sedgwick St & Webster Ave   \n",
       "2       Sangamon St & Lake St     TA1306000015     St. Clair St & Erie St   \n",
       "3       Shields Ave & 31st St     KA1503000038     Damen Ave & Madison St   \n",
       "4   Ashland Ave & Chicago Ave            13247  Damen Ave & Charleston St   \n",
       "\n",
       "  end_station_id  start_lat  start_lng    end_lat    end_lng member_casual  \\\n",
       "0          13191  41.918244 -87.657115  41.922167 -87.638888        member   \n",
       "1          13191  41.940106 -87.645451  41.922167 -87.638888        casual   \n",
       "2          13016  41.885919 -87.651133  41.894345 -87.622798        member   \n",
       "3          13134  41.838464 -87.635406  41.881370 -87.674930        member   \n",
       "4          13288  41.895954 -87.667728  41.920082 -87.677855        casual   \n",
       "\n",
       "        ride_time    weekday  \n",
       "0 0 days 00:09:16     Monday  \n",
       "1 0 days 00:26:11     Sunday  \n",
       "2 0 days 00:12:06    Tuesday  \n",
       "3 0 days 00:29:01    Tuesday  \n",
       "4 0 days 00:14:11  Wednesday  "
      ]
     },
     "execution_count": 8,
     "metadata": {},
     "output_type": "execute_result"
    }
   ],
   "source": [
    "df1['weekday'] = df1['started_at'].dt.day_name()\n",
    "df1.info()\n",
    "df1.head()"
   ]
  },
  {
   "cell_type": "markdown",
   "metadata": {},
   "source": [
    "Repetimos el proceso para los demas df"
   ]
  },
  {
   "cell_type": "code",
   "execution_count": 9,
   "metadata": {},
   "outputs": [],
   "source": [
    "#Añadimos columna ride_time y weekday a las 12 tablas\n",
    "df2['started_at']= pd.to_datetime(df2['started_at'])\n",
    "df2['ended_at']= pd.to_datetime(df2['ended_at'])\n",
    "df2['ride_time']= df2['ended_at'] - df2['started_at']\n",
    "df2['weekday'] = df2['started_at'].dt.day_name()\n",
    "\n",
    "df3['started_at']= pd.to_datetime(df3['started_at'])\n",
    "df3['ended_at']= pd.to_datetime(df3['ended_at'])\n",
    "df3['ride_time']= df3['ended_at'] - df3['started_at']\n",
    "df3['weekday'] = df3['started_at'].dt.day_name()\n",
    "\n",
    "df4['started_at']= pd.to_datetime(df4['started_at'])\n",
    "df4['ended_at']= pd.to_datetime(df4['ended_at'])\n",
    "df4['ride_time']= df4['ended_at'] - df4['started_at']\n",
    "df4['weekday'] = df4['started_at'].dt.day_name()\n",
    "\n",
    "df5['started_at']= pd.to_datetime(df5['started_at'])\n",
    "df5['ended_at']= pd.to_datetime(df5['ended_at'])\n",
    "df5['ride_time']= df5['ended_at'] - df5['started_at']\n",
    "df5['weekday'] = df5['started_at'].dt.day_name()\n",
    "\n",
    "df6['started_at']= pd.to_datetime(df6['started_at'])\n",
    "df6['ended_at']= pd.to_datetime(df6['ended_at'])\n",
    "df6['ride_time']= df6['ended_at'] - df6['started_at']\n",
    "df6['weekday'] = df6['started_at'].dt.day_name()\n",
    "\n",
    "df7['started_at']= pd.to_datetime(df7['started_at'])\n",
    "df7['ended_at']= pd.to_datetime(df7['ended_at'])\n",
    "df7['ride_time']= df7['ended_at'] - df7['started_at']\n",
    "df7['weekday'] = df7['started_at'].dt.day_name()\n",
    "\n",
    "df8['started_at']= pd.to_datetime(df8['started_at'])\n",
    "df8['ended_at']= pd.to_datetime(df8['ended_at'])\n",
    "df8['ride_time']= df8['ended_at'] - df8['started_at']\n",
    "df8['weekday'] = df8['started_at'].dt.day_name()\n",
    "\n",
    "df9['started_at']= pd.to_datetime(df9['started_at'])\n",
    "df9['ended_at']= pd.to_datetime(df9['ended_at'])\n",
    "df9['ride_time']= df9['ended_at'] - df9['started_at']\n",
    "df9['weekday'] = df9['started_at'].dt.day_name()\n",
    "\n",
    "df10['started_at']= pd.to_datetime(df10['started_at'])\n",
    "df10['ended_at']= pd.to_datetime(df10['ended_at'])\n",
    "df10['ride_time']= df10['ended_at'] - df10['started_at']\n",
    "df10['weekday'] = df10['started_at'].dt.day_name()\n",
    "\n",
    "df11['started_at']= pd.to_datetime(df11['started_at'])\n",
    "df11['ended_at']= pd.to_datetime(df11['ended_at'])\n",
    "df11['ride_time']= df11['ended_at'] - df11['started_at']\n",
    "df11['weekday'] = df11['started_at'].dt.day_name()\n",
    "\n",
    "df12['started_at']= pd.to_datetime(df12['started_at'])\n",
    "df12['ended_at']= pd.to_datetime(df12['ended_at'])\n",
    "df12['ride_time']= df12['ended_at'] - df12['started_at']\n",
    "df12['weekday'] = df12['started_at'].dt.day_name()\n"
   ]
  },
  {
   "cell_type": "code",
   "execution_count": 10,
   "metadata": {},
   "outputs": [
    {
     "data": {
      "text/html": [
       "<div>\n",
       "<style scoped>\n",
       "    .dataframe tbody tr th:only-of-type {\n",
       "        vertical-align: middle;\n",
       "    }\n",
       "\n",
       "    .dataframe tbody tr th {\n",
       "        vertical-align: top;\n",
       "    }\n",
       "\n",
       "    .dataframe thead th {\n",
       "        text-align: right;\n",
       "    }\n",
       "</style>\n",
       "<table border=\"1\" class=\"dataframe\">\n",
       "  <thead>\n",
       "    <tr style=\"text-align: right;\">\n",
       "      <th></th>\n",
       "      <th>ride_id</th>\n",
       "      <th>rideable_type</th>\n",
       "      <th>started_at</th>\n",
       "      <th>ended_at</th>\n",
       "      <th>start_station_name</th>\n",
       "      <th>start_station_id</th>\n",
       "      <th>end_station_name</th>\n",
       "      <th>end_station_id</th>\n",
       "      <th>start_lat</th>\n",
       "      <th>start_lng</th>\n",
       "      <th>end_lat</th>\n",
       "      <th>end_lng</th>\n",
       "      <th>member_casual</th>\n",
       "      <th>ride_time</th>\n",
       "      <th>weekday</th>\n",
       "    </tr>\n",
       "  </thead>\n",
       "  <tbody>\n",
       "    <tr>\n",
       "      <th>0</th>\n",
       "      <td>CBCD0D7777F0E45F</td>\n",
       "      <td>classic_bike</td>\n",
       "      <td>2023-02-14 11:59:42</td>\n",
       "      <td>2023-02-14 12:13:38</td>\n",
       "      <td>Southport Ave &amp; Clybourn Ave</td>\n",
       "      <td>TA1309000030</td>\n",
       "      <td>Clark St &amp; Schiller St</td>\n",
       "      <td>TA1309000024</td>\n",
       "      <td>41.920771</td>\n",
       "      <td>-87.663712</td>\n",
       "      <td>41.907993</td>\n",
       "      <td>-87.631501</td>\n",
       "      <td>casual</td>\n",
       "      <td>0 days 00:13:56</td>\n",
       "      <td>Tuesday</td>\n",
       "    </tr>\n",
       "    <tr>\n",
       "      <th>1</th>\n",
       "      <td>F3EC5FCE5FF39DE9</td>\n",
       "      <td>electric_bike</td>\n",
       "      <td>2023-02-15 13:53:48</td>\n",
       "      <td>2023-02-15 13:59:08</td>\n",
       "      <td>Clarendon Ave &amp; Gordon Ter</td>\n",
       "      <td>13379</td>\n",
       "      <td>Sheridan Rd &amp; Lawrence Ave</td>\n",
       "      <td>TA1309000041</td>\n",
       "      <td>41.957879</td>\n",
       "      <td>-87.649584</td>\n",
       "      <td>41.969517</td>\n",
       "      <td>-87.654691</td>\n",
       "      <td>casual</td>\n",
       "      <td>0 days 00:05:20</td>\n",
       "      <td>Wednesday</td>\n",
       "    </tr>\n",
       "    <tr>\n",
       "      <th>2</th>\n",
       "      <td>E54C1F27FA9354FF</td>\n",
       "      <td>classic_bike</td>\n",
       "      <td>2023-02-19 11:10:57</td>\n",
       "      <td>2023-02-19 11:35:01</td>\n",
       "      <td>Southport Ave &amp; Clybourn Ave</td>\n",
       "      <td>TA1309000030</td>\n",
       "      <td>Aberdeen St &amp; Monroe St</td>\n",
       "      <td>13156</td>\n",
       "      <td>41.920771</td>\n",
       "      <td>-87.663712</td>\n",
       "      <td>41.880419</td>\n",
       "      <td>-87.655519</td>\n",
       "      <td>member</td>\n",
       "      <td>0 days 00:24:04</td>\n",
       "      <td>Sunday</td>\n",
       "    </tr>\n",
       "    <tr>\n",
       "      <th>3</th>\n",
       "      <td>3D561E04F739CC45</td>\n",
       "      <td>electric_bike</td>\n",
       "      <td>2023-02-26 16:12:05</td>\n",
       "      <td>2023-02-26 16:39:55</td>\n",
       "      <td>Southport Ave &amp; Clybourn Ave</td>\n",
       "      <td>TA1309000030</td>\n",
       "      <td>Franklin St &amp; Adams St (Temp)</td>\n",
       "      <td>TA1309000008</td>\n",
       "      <td>41.920873</td>\n",
       "      <td>-87.663733</td>\n",
       "      <td>41.879434</td>\n",
       "      <td>-87.635504</td>\n",
       "      <td>member</td>\n",
       "      <td>0 days 00:27:50</td>\n",
       "      <td>Sunday</td>\n",
       "    </tr>\n",
       "    <tr>\n",
       "      <th>4</th>\n",
       "      <td>0CB4B4D53B2DBE05</td>\n",
       "      <td>electric_bike</td>\n",
       "      <td>2023-02-20 11:55:23</td>\n",
       "      <td>2023-02-20 12:05:48</td>\n",
       "      <td>Prairie Ave &amp; Garfield Blvd</td>\n",
       "      <td>TA1307000160</td>\n",
       "      <td>Cottage Grove Ave &amp; 63rd St</td>\n",
       "      <td>KA1503000054</td>\n",
       "      <td>41.794827</td>\n",
       "      <td>-87.618795</td>\n",
       "      <td>41.780531</td>\n",
       "      <td>-87.605970</td>\n",
       "      <td>member</td>\n",
       "      <td>0 days 00:10:25</td>\n",
       "      <td>Monday</td>\n",
       "    </tr>\n",
       "  </tbody>\n",
       "</table>\n",
       "</div>"
      ],
      "text/plain": [
       "            ride_id  rideable_type          started_at            ended_at  \\\n",
       "0  CBCD0D7777F0E45F   classic_bike 2023-02-14 11:59:42 2023-02-14 12:13:38   \n",
       "1  F3EC5FCE5FF39DE9  electric_bike 2023-02-15 13:53:48 2023-02-15 13:59:08   \n",
       "2  E54C1F27FA9354FF   classic_bike 2023-02-19 11:10:57 2023-02-19 11:35:01   \n",
       "3  3D561E04F739CC45  electric_bike 2023-02-26 16:12:05 2023-02-26 16:39:55   \n",
       "4  0CB4B4D53B2DBE05  electric_bike 2023-02-20 11:55:23 2023-02-20 12:05:48   \n",
       "\n",
       "             start_station_name start_station_id  \\\n",
       "0  Southport Ave & Clybourn Ave     TA1309000030   \n",
       "1    Clarendon Ave & Gordon Ter            13379   \n",
       "2  Southport Ave & Clybourn Ave     TA1309000030   \n",
       "3  Southport Ave & Clybourn Ave     TA1309000030   \n",
       "4   Prairie Ave & Garfield Blvd     TA1307000160   \n",
       "\n",
       "                end_station_name end_station_id  start_lat  start_lng  \\\n",
       "0         Clark St & Schiller St   TA1309000024  41.920771 -87.663712   \n",
       "1     Sheridan Rd & Lawrence Ave   TA1309000041  41.957879 -87.649584   \n",
       "2        Aberdeen St & Monroe St          13156  41.920771 -87.663712   \n",
       "3  Franklin St & Adams St (Temp)   TA1309000008  41.920873 -87.663733   \n",
       "4    Cottage Grove Ave & 63rd St   KA1503000054  41.794827 -87.618795   \n",
       "\n",
       "     end_lat    end_lng member_casual       ride_time    weekday  \n",
       "0  41.907993 -87.631501        casual 0 days 00:13:56    Tuesday  \n",
       "1  41.969517 -87.654691        casual 0 days 00:05:20  Wednesday  \n",
       "2  41.880419 -87.655519        member 0 days 00:24:04     Sunday  \n",
       "3  41.879434 -87.635504        member 0 days 00:27:50     Sunday  \n",
       "4  41.780531 -87.605970        member 0 days 00:10:25     Monday  "
      ]
     },
     "execution_count": 10,
     "metadata": {},
     "output_type": "execute_result"
    }
   ],
   "source": [
    "df3.head()"
   ]
  },
  {
   "cell_type": "markdown",
   "metadata": {},
   "source": [
    "Ahora uniremos los df en un solo df llamado All_Trips, que contenga los viajes realizados en 12 meses del año 2023. "
   ]
  },
  {
   "cell_type": "code",
   "execution_count": 11,
   "metadata": {},
   "outputs": [
    {
     "data": {
      "text/html": [
       "<div>\n",
       "<style scoped>\n",
       "    .dataframe tbody tr th:only-of-type {\n",
       "        vertical-align: middle;\n",
       "    }\n",
       "\n",
       "    .dataframe tbody tr th {\n",
       "        vertical-align: top;\n",
       "    }\n",
       "\n",
       "    .dataframe thead th {\n",
       "        text-align: right;\n",
       "    }\n",
       "</style>\n",
       "<table border=\"1\" class=\"dataframe\">\n",
       "  <thead>\n",
       "    <tr style=\"text-align: right;\">\n",
       "      <th></th>\n",
       "      <th>ride_id</th>\n",
       "      <th>rideable_type</th>\n",
       "      <th>started_at</th>\n",
       "      <th>ended_at</th>\n",
       "      <th>start_station_name</th>\n",
       "      <th>start_station_id</th>\n",
       "      <th>end_station_name</th>\n",
       "      <th>end_station_id</th>\n",
       "      <th>start_lat</th>\n",
       "      <th>start_lng</th>\n",
       "      <th>end_lat</th>\n",
       "      <th>end_lng</th>\n",
       "      <th>member_casual</th>\n",
       "      <th>ride_time</th>\n",
       "      <th>weekday</th>\n",
       "    </tr>\n",
       "  </thead>\n",
       "  <tbody>\n",
       "    <tr>\n",
       "      <th>0</th>\n",
       "      <td>65DBD2F447EC51C2</td>\n",
       "      <td>electric_bike</td>\n",
       "      <td>2022-12-05 10:47:18</td>\n",
       "      <td>2022-12-05 10:56:34</td>\n",
       "      <td>Clifton Ave &amp; Armitage Ave</td>\n",
       "      <td>TA1307000163</td>\n",
       "      <td>Sedgwick St &amp; Webster Ave</td>\n",
       "      <td>13191</td>\n",
       "      <td>41.918244</td>\n",
       "      <td>-87.657115</td>\n",
       "      <td>41.922167</td>\n",
       "      <td>-87.638888</td>\n",
       "      <td>member</td>\n",
       "      <td>0 days 00:09:16</td>\n",
       "      <td>Monday</td>\n",
       "    </tr>\n",
       "    <tr>\n",
       "      <th>1</th>\n",
       "      <td>0C201AA7EA0EA1AD</td>\n",
       "      <td>classic_bike</td>\n",
       "      <td>2022-12-18 06:42:33</td>\n",
       "      <td>2022-12-18 07:08:44</td>\n",
       "      <td>Broadway &amp; Belmont Ave</td>\n",
       "      <td>13277</td>\n",
       "      <td>Sedgwick St &amp; Webster Ave</td>\n",
       "      <td>13191</td>\n",
       "      <td>41.940106</td>\n",
       "      <td>-87.645451</td>\n",
       "      <td>41.922167</td>\n",
       "      <td>-87.638888</td>\n",
       "      <td>casual</td>\n",
       "      <td>0 days 00:26:11</td>\n",
       "      <td>Sunday</td>\n",
       "    </tr>\n",
       "    <tr>\n",
       "      <th>2</th>\n",
       "      <td>E0B148CCB358A49D</td>\n",
       "      <td>electric_bike</td>\n",
       "      <td>2022-12-13 08:47:45</td>\n",
       "      <td>2022-12-13 08:59:51</td>\n",
       "      <td>Sangamon St &amp; Lake St</td>\n",
       "      <td>TA1306000015</td>\n",
       "      <td>St. Clair St &amp; Erie St</td>\n",
       "      <td>13016</td>\n",
       "      <td>41.885919</td>\n",
       "      <td>-87.651133</td>\n",
       "      <td>41.894345</td>\n",
       "      <td>-87.622798</td>\n",
       "      <td>member</td>\n",
       "      <td>0 days 00:12:06</td>\n",
       "      <td>Tuesday</td>\n",
       "    </tr>\n",
       "    <tr>\n",
       "      <th>3</th>\n",
       "      <td>54C5775D2B7C9188</td>\n",
       "      <td>classic_bike</td>\n",
       "      <td>2022-12-13 18:50:47</td>\n",
       "      <td>2022-12-13 19:19:48</td>\n",
       "      <td>Shields Ave &amp; 31st St</td>\n",
       "      <td>KA1503000038</td>\n",
       "      <td>Damen Ave &amp; Madison St</td>\n",
       "      <td>13134</td>\n",
       "      <td>41.838464</td>\n",
       "      <td>-87.635406</td>\n",
       "      <td>41.881370</td>\n",
       "      <td>-87.674930</td>\n",
       "      <td>member</td>\n",
       "      <td>0 days 00:29:01</td>\n",
       "      <td>Tuesday</td>\n",
       "    </tr>\n",
       "    <tr>\n",
       "      <th>4</th>\n",
       "      <td>A4891F78776D35DF</td>\n",
       "      <td>classic_bike</td>\n",
       "      <td>2022-12-14 16:13:39</td>\n",
       "      <td>2022-12-14 16:27:50</td>\n",
       "      <td>Ashland Ave &amp; Chicago Ave</td>\n",
       "      <td>13247</td>\n",
       "      <td>Damen Ave &amp; Charleston St</td>\n",
       "      <td>13288</td>\n",
       "      <td>41.895954</td>\n",
       "      <td>-87.667728</td>\n",
       "      <td>41.920082</td>\n",
       "      <td>-87.677855</td>\n",
       "      <td>casual</td>\n",
       "      <td>0 days 00:14:11</td>\n",
       "      <td>Wednesday</td>\n",
       "    </tr>\n",
       "  </tbody>\n",
       "</table>\n",
       "</div>"
      ],
      "text/plain": [
       "            ride_id  rideable_type          started_at            ended_at  \\\n",
       "0  65DBD2F447EC51C2  electric_bike 2022-12-05 10:47:18 2022-12-05 10:56:34   \n",
       "1  0C201AA7EA0EA1AD   classic_bike 2022-12-18 06:42:33 2022-12-18 07:08:44   \n",
       "2  E0B148CCB358A49D  electric_bike 2022-12-13 08:47:45 2022-12-13 08:59:51   \n",
       "3  54C5775D2B7C9188   classic_bike 2022-12-13 18:50:47 2022-12-13 19:19:48   \n",
       "4  A4891F78776D35DF   classic_bike 2022-12-14 16:13:39 2022-12-14 16:27:50   \n",
       "\n",
       "           start_station_name start_station_id           end_station_name  \\\n",
       "0  Clifton Ave & Armitage Ave     TA1307000163  Sedgwick St & Webster Ave   \n",
       "1      Broadway & Belmont Ave            13277  Sedgwick St & Webster Ave   \n",
       "2       Sangamon St & Lake St     TA1306000015     St. Clair St & Erie St   \n",
       "3       Shields Ave & 31st St     KA1503000038     Damen Ave & Madison St   \n",
       "4   Ashland Ave & Chicago Ave            13247  Damen Ave & Charleston St   \n",
       "\n",
       "  end_station_id  start_lat  start_lng    end_lat    end_lng member_casual  \\\n",
       "0          13191  41.918244 -87.657115  41.922167 -87.638888        member   \n",
       "1          13191  41.940106 -87.645451  41.922167 -87.638888        casual   \n",
       "2          13016  41.885919 -87.651133  41.894345 -87.622798        member   \n",
       "3          13134  41.838464 -87.635406  41.881370 -87.674930        member   \n",
       "4          13288  41.895954 -87.667728  41.920082 -87.677855        casual   \n",
       "\n",
       "        ride_time    weekday  \n",
       "0 0 days 00:09:16     Monday  \n",
       "1 0 days 00:26:11     Sunday  \n",
       "2 0 days 00:12:06    Tuesday  \n",
       "3 0 days 00:29:01    Tuesday  \n",
       "4 0 days 00:14:11  Wednesday  "
      ]
     },
     "execution_count": 11,
     "metadata": {},
     "output_type": "execute_result"
    }
   ],
   "source": [
    "all_trips = pd.concat([df1, df2,df3, df4, df5, df6, df7, df8, df9, df10, df11, df12])\n",
    "all_trips.head()"
   ]
  },
  {
   "cell_type": "markdown",
   "metadata": {},
   "source": [
    "Eliminaremos valores nulos y valores duplicados"
   ]
  },
  {
   "cell_type": "code",
   "execution_count": 12,
   "metadata": {},
   "outputs": [
    {
     "name": "stdout",
     "output_type": "stream",
     "text": [
      "valores duplicados: 0\n"
     ]
    },
    {
     "data": {
      "text/html": [
       "<div>\n",
       "<style scoped>\n",
       "    .dataframe tbody tr th:only-of-type {\n",
       "        vertical-align: middle;\n",
       "    }\n",
       "\n",
       "    .dataframe tbody tr th {\n",
       "        vertical-align: top;\n",
       "    }\n",
       "\n",
       "    .dataframe thead th {\n",
       "        text-align: right;\n",
       "    }\n",
       "</style>\n",
       "<table border=\"1\" class=\"dataframe\">\n",
       "  <thead>\n",
       "    <tr style=\"text-align: right;\">\n",
       "      <th></th>\n",
       "      <th>ride_id</th>\n",
       "      <th>rideable_type</th>\n",
       "      <th>started_at</th>\n",
       "      <th>ended_at</th>\n",
       "      <th>start_station_name</th>\n",
       "      <th>start_station_id</th>\n",
       "      <th>end_station_name</th>\n",
       "      <th>end_station_id</th>\n",
       "      <th>start_lat</th>\n",
       "      <th>start_lng</th>\n",
       "      <th>end_lat</th>\n",
       "      <th>end_lng</th>\n",
       "      <th>member_casual</th>\n",
       "      <th>ride_time</th>\n",
       "      <th>weekday</th>\n",
       "    </tr>\n",
       "  </thead>\n",
       "  <tbody>\n",
       "  </tbody>\n",
       "</table>\n",
       "</div>"
      ],
      "text/plain": [
       "Empty DataFrame\n",
       "Columns: [ride_id, rideable_type, started_at, ended_at, start_station_name, start_station_id, end_station_name, end_station_id, start_lat, start_lng, end_lat, end_lng, member_casual, ride_time, weekday]\n",
       "Index: []"
      ]
     },
     "execution_count": 12,
     "metadata": {},
     "output_type": "execute_result"
    }
   ],
   "source": [
    "#valores duplicados\n",
    "n_duplicated = all_trips.duplicated().sum()\n",
    "print(f\"valores duplicados: {n_duplicated}\")\n",
    "\n",
    "all_trips[all_trips.duplicated]"
   ]
  },
  {
   "cell_type": "code",
   "execution_count": 13,
   "metadata": {},
   "outputs": [
    {
     "data": {
      "text/plain": [
       "ride_id                    0\n",
       "rideable_type              0\n",
       "started_at                 0\n",
       "ended_at                   0\n",
       "start_station_name    869289\n",
       "start_station_id      869421\n",
       "end_station_name      922436\n",
       "end_station_id        922577\n",
       "start_lat                  0\n",
       "start_lng                  0\n",
       "end_lat                 6879\n",
       "end_lng                 6879\n",
       "member_casual              0\n",
       "ride_time                  0\n",
       "weekday                    0\n",
       "dtype: int64"
      ]
     },
     "execution_count": 13,
     "metadata": {},
     "output_type": "execute_result"
    }
   ],
   "source": [
    "#valores faltantes\n",
    "all_trips.isna().sum()"
   ]
  },
  {
   "cell_type": "markdown",
   "metadata": {},
   "source": [
    "Tenemos valores nulos en las columnas start_station_name, start_station_id, end_station_name, end_station_id, end_lat, end_lng. Vamos a crear otro df que remueva esos valores nulos. "
   ]
  },
  {
   "cell_type": "code",
   "execution_count": 14,
   "metadata": {},
   "outputs": [
    {
     "data": {
      "text/plain": [
       "ride_id               0\n",
       "rideable_type         0\n",
       "started_at            0\n",
       "ended_at              0\n",
       "start_station_name    0\n",
       "start_station_id      0\n",
       "end_station_name      0\n",
       "end_station_id        0\n",
       "start_lat             0\n",
       "start_lng             0\n",
       "end_lat               0\n",
       "end_lng               0\n",
       "member_casual         0\n",
       "ride_time             0\n",
       "weekday               0\n",
       "dtype: int64"
      ]
     },
     "execution_count": 14,
     "metadata": {},
     "output_type": "execute_result"
    }
   ],
   "source": [
    "c_all_trips = all_trips.dropna()\n",
    "c_all_trips.isna().sum()"
   ]
  },
  {
   "cell_type": "markdown",
   "metadata": {},
   "source": [
    "# Analisis de Datos "
   ]
  },
  {
   "cell_type": "markdown",
   "metadata": {},
   "source": [
    "Ahora tenemos todos los datos reuinidos y propiamente limpios y validados podemos comenzar el analisis. Se dividira en 5 consultas. Calcularemos:\n",
    "1. Promedio de duracion de viajes de la variable ride_time, \n",
    "2. Moda de la variable weekday, \n",
    "3. Porcentaje de usuarios habituales. \n",
    "4. Promedio de la duracion de viajes para usuarios casuales y habituales. \n",
    "5. Cantidad de viajes por dia de la semana realizadas por usuarios casuales y habituales. "
   ]
  },
  {
   "cell_type": "markdown",
   "metadata": {},
   "source": [
    "## 1. Promedio de la duración de viajes\n"
   ]
  },
  {
   "cell_type": "code",
   "execution_count": 22,
   "metadata": {},
   "outputs": [
    {
     "data": {
      "text/html": [
       "<div>\n",
       "<style scoped>\n",
       "    .dataframe tbody tr th:only-of-type {\n",
       "        vertical-align: middle;\n",
       "    }\n",
       "\n",
       "    .dataframe tbody tr th {\n",
       "        vertical-align: top;\n",
       "    }\n",
       "\n",
       "    .dataframe thead th {\n",
       "        text-align: right;\n",
       "    }\n",
       "</style>\n",
       "<table border=\"1\" class=\"dataframe\">\n",
       "  <thead>\n",
       "    <tr style=\"text-align: right;\">\n",
       "      <th></th>\n",
       "      <th>started_at</th>\n",
       "      <th>ended_at</th>\n",
       "      <th>start_lat</th>\n",
       "      <th>start_lng</th>\n",
       "      <th>end_lat</th>\n",
       "      <th>end_lng</th>\n",
       "      <th>ride_time</th>\n",
       "    </tr>\n",
       "  </thead>\n",
       "  <tbody>\n",
       "    <tr>\n",
       "      <th>count</th>\n",
       "      <td>4299967</td>\n",
       "      <td>4299967</td>\n",
       "      <td>4.299967e+06</td>\n",
       "      <td>4.299967e+06</td>\n",
       "      <td>4.299967e+06</td>\n",
       "      <td>4.299967e+06</td>\n",
       "      <td>4299967</td>\n",
       "    </tr>\n",
       "    <tr>\n",
       "      <th>mean</th>\n",
       "      <td>2023-07-03 03:47:14.904931072</td>\n",
       "      <td>2023-07-03 04:03:12.263578880</td>\n",
       "      <td>4.190095e+01</td>\n",
       "      <td>-8.764464e+01</td>\n",
       "      <td>4.190137e+01</td>\n",
       "      <td>-8.764486e+01</td>\n",
       "      <td>0 days 00:15:57.358648101</td>\n",
       "    </tr>\n",
       "    <tr>\n",
       "      <th>min</th>\n",
       "      <td>2022-12-01 00:01:22</td>\n",
       "      <td>2022-12-01 00:03:41</td>\n",
       "      <td>4.164850e+01</td>\n",
       "      <td>-8.784409e+01</td>\n",
       "      <td>0.000000e+00</td>\n",
       "      <td>-8.784406e+01</td>\n",
       "      <td>-1 days +23:05:26</td>\n",
       "    </tr>\n",
       "    <tr>\n",
       "      <th>25%</th>\n",
       "      <td>2023-05-10 07:21:06.500000</td>\n",
       "      <td>2023-05-10 07:31:49</td>\n",
       "      <td>4.188084e+01</td>\n",
       "      <td>-8.765762e+01</td>\n",
       "      <td>4.188096e+01</td>\n",
       "      <td>-8.765842e+01</td>\n",
       "      <td>0 days 00:05:37</td>\n",
       "    </tr>\n",
       "    <tr>\n",
       "      <th>50%</th>\n",
       "      <td>2023-07-12 16:52:18</td>\n",
       "      <td>2023-07-12 17:04:54</td>\n",
       "      <td>4.189636e+01</td>\n",
       "      <td>-8.764170e+01</td>\n",
       "      <td>4.189662e+01</td>\n",
       "      <td>-8.764182e+01</td>\n",
       "      <td>0 days 00:09:48</td>\n",
       "    </tr>\n",
       "    <tr>\n",
       "      <th>75%</th>\n",
       "      <td>2023-09-07 07:39:31.500000</td>\n",
       "      <td>2023-09-07 07:51:02.500000</td>\n",
       "      <td>4.192731e+01</td>\n",
       "      <td>-8.762858e+01</td>\n",
       "      <td>4.192877e+01</td>\n",
       "      <td>-8.762858e+01</td>\n",
       "      <td>0 days 00:17:29</td>\n",
       "    </tr>\n",
       "    <tr>\n",
       "      <th>max</th>\n",
       "      <td>2023-11-30 23:58:38</td>\n",
       "      <td>2023-12-01 09:47:35</td>\n",
       "      <td>4.206485e+01</td>\n",
       "      <td>-8.752823e+01</td>\n",
       "      <td>4.206485e+01</td>\n",
       "      <td>0.000000e+00</td>\n",
       "      <td>8 days 10:16:18</td>\n",
       "    </tr>\n",
       "    <tr>\n",
       "      <th>std</th>\n",
       "      <td>NaN</td>\n",
       "      <td>NaN</td>\n",
       "      <td>4.303152e-02</td>\n",
       "      <td>2.489457e-02</td>\n",
       "      <td>5.559158e-02</td>\n",
       "      <td>7.737307e-02</td>\n",
       "      <td>0 days 00:35:58.577397501</td>\n",
       "    </tr>\n",
       "  </tbody>\n",
       "</table>\n",
       "</div>"
      ],
      "text/plain": [
       "                          started_at                       ended_at  \\\n",
       "count                        4299967                        4299967   \n",
       "mean   2023-07-03 03:47:14.904931072  2023-07-03 04:03:12.263578880   \n",
       "min              2022-12-01 00:01:22            2022-12-01 00:03:41   \n",
       "25%       2023-05-10 07:21:06.500000            2023-05-10 07:31:49   \n",
       "50%              2023-07-12 16:52:18            2023-07-12 17:04:54   \n",
       "75%       2023-09-07 07:39:31.500000     2023-09-07 07:51:02.500000   \n",
       "max              2023-11-30 23:58:38            2023-12-01 09:47:35   \n",
       "std                              NaN                            NaN   \n",
       "\n",
       "          start_lat     start_lng       end_lat       end_lng  \\\n",
       "count  4.299967e+06  4.299967e+06  4.299967e+06  4.299967e+06   \n",
       "mean   4.190095e+01 -8.764464e+01  4.190137e+01 -8.764486e+01   \n",
       "min    4.164850e+01 -8.784409e+01  0.000000e+00 -8.784406e+01   \n",
       "25%    4.188084e+01 -8.765762e+01  4.188096e+01 -8.765842e+01   \n",
       "50%    4.189636e+01 -8.764170e+01  4.189662e+01 -8.764182e+01   \n",
       "75%    4.192731e+01 -8.762858e+01  4.192877e+01 -8.762858e+01   \n",
       "max    4.206485e+01 -8.752823e+01  4.206485e+01  0.000000e+00   \n",
       "std    4.303152e-02  2.489457e-02  5.559158e-02  7.737307e-02   \n",
       "\n",
       "                       ride_time  \n",
       "count                    4299967  \n",
       "mean   0 days 00:15:57.358648101  \n",
       "min            -1 days +23:05:26  \n",
       "25%              0 days 00:05:37  \n",
       "50%              0 days 00:09:48  \n",
       "75%              0 days 00:17:29  \n",
       "max              8 days 10:16:18  \n",
       "std    0 days 00:35:58.577397501  "
      ]
     },
     "execution_count": 22,
     "metadata": {},
     "output_type": "execute_result"
    }
   ],
   "source": [
    "c_all_trips.describe()"
   ]
  },
  {
   "cell_type": "markdown",
   "metadata": {},
   "source": [
    "Podemos ver que el total de viajes en el año es: 4,299,967 \n",
    "el promedio de duracion es: 16 min\n",
    "el 25% de los viajes se encuentra en el rango de 0 a 6 minutos \n",
    "el 50% de los viajes se encuentra en el rango de 0 a 10 minutos \n",
    "el 75% de los viajes se encuentra en el rango de 0 a 18 minutos "
   ]
  },
  {
   "cell_type": "markdown",
   "metadata": {},
   "source": [
    "Agrupamamos en una tabla para la parte de visualizacion"
   ]
  },
  {
   "cell_type": "code",
   "execution_count": null,
   "metadata": {},
   "outputs": [],
   "source": []
  },
  {
   "cell_type": "markdown",
   "metadata": {},
   "source": [
    "Graficamos "
   ]
  },
  {
   "cell_type": "code",
   "execution_count": 86,
   "metadata": {},
   "outputs": [
    {
     "data": {
      "image/png": "[encoded data removed]",
      "text/plain": [
       "<Figure size 640x480 with 1 Axes>"
      ]
     },
     "metadata": {},
     "output_type": "display_data"
    }
   ],
   "source": [
    "\n",
    "\n",
    "# Suponiendo que ride_times contiene la duración de los viajes (tipo timedelta)\n",
    "# Convertir la duración de los viajes a minutos\n",
    "ride_times_minutes = c_all_trips['ride_time'] / pd.Timedelta(minutes=1)\n",
    "\n",
    "# Definir los intervalos hasta 18 minutos\n",
    "intervalos = [0, 6, 10, 18]\n",
    "\n",
    "# Contar la cantidad de viajes en cada intervalo\n",
    "frecuencias, bordes = np.histogram(ride_times_minutes, bins=intervalos)\n",
    "\n",
    "# Crear el gráfico de barras\n",
    "plt.bar(range(len(intervalos) - 1), frecuencias, align='center', color='skyblue', edgecolor='black')\n",
    "\n",
    "# Etiquetas y título\n",
    "plt.xlabel('Intervalos de Duración de los Viajes (minutos)')\n",
    "plt.ylabel('Cantidad de Viajes(Millones)')\n",
    "plt.title('Distribución de Duración de los Viajes')\n",
    "\n",
    "# Añadir etiquetas de los intervalos\n",
    "plt.xticks(range(len(intervalos) - 1), ['0-6 min', '6-10 min', '10-18 min'])\n",
    "\n",
    "# Ajustar el rango del eje Y para incluir la cantidad total de viajes\n",
    "plt.ylim(0, c_all_trips.shape[0])\n",
    "\n",
    "# Mostrar el gráfico\n",
    "plt.show()\n"
   ]
  },
  {
   "cell_type": "markdown",
   "metadata": {},
   "source": [
    "## 2. Moda de la variable weekday"
   ]
  },
  {
   "cell_type": "code",
   "execution_count": 47,
   "metadata": {},
   "outputs": [
    {
     "name": "stdout",
     "output_type": "stream",
     "text": [
      "La moda es: Saturday\n"
     ]
    }
   ],
   "source": [
    "\n",
    "weekday_mode = c_all_trips['weekday'].mode()[0]\n",
    "\n",
    "print(\"La moda es:\", weekday_mode)\n",
    "\n"
   ]
  },
  {
   "cell_type": "markdown",
   "metadata": {},
   "source": [
    "Queremos saber cantidad de viajes por día"
   ]
  },
  {
   "cell_type": "code",
   "execution_count": 46,
   "metadata": {},
   "outputs": [
    {
     "name": "stdout",
     "output_type": "stream",
     "text": [
      "Cantidad de viajes por día de la semana:\n",
      "weekday\n",
      "Saturday     654440\n",
      "Thursday     651076\n",
      "Tuesday      629964\n",
      "Wednesday    628730\n",
      "Friday       619561\n",
      "Monday       559734\n",
      "Sunday       556462\n",
      "Name: count, dtype: int64\n"
     ]
    }
   ],
   "source": [
    "#\n",
    "day_trips = c_all_trips['weekday'].value_counts()\n",
    "\n",
    "print(\"Cantidad de viajes por día de la semana:\")\n",
    "print(day_trips)"
   ]
  },
  {
   "cell_type": "markdown",
   "metadata": {},
   "source": [
    "Validamos el total de vaiejes "
   ]
  },
  {
   "cell_type": "code",
   "execution_count": 50,
   "metadata": {},
   "outputs": [
    {
     "data": {
      "text/plain": [
       "4299967"
      ]
     },
     "execution_count": 50,
     "metadata": {},
     "output_type": "execute_result"
    }
   ],
   "source": [
    "day_trips.sum()"
   ]
  },
  {
   "cell_type": "markdown",
   "metadata": {},
   "source": [
    "Graficamos "
   ]
  },
  {
   "cell_type": "code",
   "execution_count": 45,
   "metadata": {},
   "outputs": [
    {
     "data": {
      "image/png": "[encoded data removed]",
      "text/plain": [
       "<Figure size 640x480 with 1 Axes>"
      ]
     },
     "metadata": {},
     "output_type": "display_data"
    }
   ],
   "source": [
    "import matplotlib.pyplot as plt\n",
    "\n",
    "# Suponiendo que 'weekday' es el nombre de la columna que contiene el día de la semana\n",
    "day_trips = c_all_trips['weekday'].value_counts()\n",
    "\n",
    "# Crear el gráfico de barras\n",
    "plt.bar(day_trips.index, day_trips.values, color='skyblue', edgecolor='black')\n",
    "\n",
    "# Etiquetas y título\n",
    "plt.xlabel('Día de la semana')\n",
    "plt.ylabel('Cantidad de viajes')\n",
    "plt.title('Cantidad de viajes por día de la semana')\n",
    "\n",
    "# Mostrar el gráfico\n",
    "plt.show()"
   ]
  },
  {
   "cell_type": "markdown",
   "metadata": {},
   "source": [
    "## 3. Porcentaje de viajes realizados por miembros y por usuarios casuales. "
   ]
  },
  {
   "cell_type": "markdown",
   "metadata": {},
   "source": [
    "Contamos valores "
   ]
  },
  {
   "cell_type": "code",
   "execution_count": 71,
   "metadata": {},
   "outputs": [
    {
     "data": {
      "text/html": [
       "<div>\n",
       "<style scoped>\n",
       "    .dataframe tbody tr th:only-of-type {\n",
       "        vertical-align: middle;\n",
       "    }\n",
       "\n",
       "    .dataframe tbody tr th {\n",
       "        vertical-align: top;\n",
       "    }\n",
       "\n",
       "    .dataframe thead th {\n",
       "        text-align: right;\n",
       "    }\n",
       "</style>\n",
       "<table border=\"1\" class=\"dataframe\">\n",
       "  <thead>\n",
       "    <tr style=\"text-align: right;\">\n",
       "      <th></th>\n",
       "      <th>Total de viajes</th>\n",
       "    </tr>\n",
       "    <tr>\n",
       "      <th>member_casual</th>\n",
       "      <th></th>\n",
       "    </tr>\n",
       "  </thead>\n",
       "  <tbody>\n",
       "    <tr>\n",
       "      <th>member</th>\n",
       "      <td>2773391</td>\n",
       "    </tr>\n",
       "    <tr>\n",
       "      <th>casual</th>\n",
       "      <td>1526576</td>\n",
       "    </tr>\n",
       "  </tbody>\n",
       "</table>\n",
       "</div>"
      ],
      "text/plain": [
       "               Total de viajes\n",
       "member_casual                 \n",
       "member                 2773391\n",
       "casual                 1526576"
      ]
     },
     "execution_count": 71,
     "metadata": {},
     "output_type": "execute_result"
    }
   ],
   "source": [
    "members = c_all_trips['member_casual'].value_counts()\n",
    "\n",
    "# Convertir la Serie a un DataFrame\n",
    "members_df = pd.DataFrame(members)\n",
    "\n",
    "members_df = members_df.rename(columns={'member_casual': 'Tipo de miembro', 'count': 'Total de viajes'})\n",
    "\n",
    "# Imprimir el DataFrame con los nuevos nombres de columnas\n",
    "members_df"
   ]
  },
  {
   "cell_type": "markdown",
   "metadata": {},
   "source": [
    "Validamos con el total de viajes "
   ]
  },
  {
   "cell_type": "code",
   "execution_count": 72,
   "metadata": {},
   "outputs": [
    {
     "data": {
      "text/plain": [
       "4299967"
      ]
     },
     "execution_count": 72,
     "metadata": {},
     "output_type": "execute_result"
    }
   ],
   "source": [
    "total_trips = members.sum()\n",
    "total_trips \n"
   ]
  },
  {
   "cell_type": "markdown",
   "metadata": {},
   "source": [
    "Calculamos el porcentaje de miembros casuales y habituales con respecto al total de viajes "
   ]
  },
  {
   "cell_type": "code",
   "execution_count": 74,
   "metadata": {},
   "outputs": [
    {
     "name": "stdout",
     "output_type": "stream",
     "text": [
      "64.49796010062403\n",
      "35.50203989937597\n"
     ]
    }
   ],
   "source": [
    "member_percent = members['member'] / total_trips *100\n",
    "casual_percent = members['casual'] / total_trips *100\n",
    "\n",
    "print(member_percent)\n",
    "print(casual_percent)"
   ]
  },
  {
   "cell_type": "markdown",
   "metadata": {},
   "source": [
    "Graficamos "
   ]
  },
  {
   "cell_type": "code",
   "execution_count": 49,
   "metadata": {},
   "outputs": [
    {
     "data": {
      "image/png": "[encoded data removed]",
      "text/plain": [
       "<Figure size 640x480 with 1 Axes>"
      ]
     },
     "metadata": {},
     "output_type": "display_data"
    }
   ],
   "source": [
    "labels = ['Miembros', 'Clientes Casuales']\n",
    "sizes = [member_percent, casual_percent]\n",
    "colors = ['lightblue', 'lightcoral']\n",
    "explode = (0.1, 0)  # Explotar la primera porción (miembros)\n",
    "\n",
    "# Crear el gráfico circular\n",
    "plt.pie(sizes, explode=explode, labels=labels, colors=colors, autopct='%1.1f%%', startangle=140)\n",
    "\n",
    "# Añadir un título\n",
    "plt.title('Porcentaje de Viajes por Tipo de Usuario')\n",
    "\n",
    "# Mostrar el gráfico\n",
    "plt.show()"
   ]
  },
  {
   "cell_type": "markdown",
   "metadata": {},
   "source": [
    "## 4.Promedio de la duracion de viajes para usuarios casuales y habituales. "
   ]
  },
  {
   "cell_type": "code",
   "execution_count": 52,
   "metadata": {},
   "outputs": [
    {
     "name": "stdout",
     "output_type": "stream",
     "text": [
      "Promedio de duración de viajes para miembros: 0 days 00:12:07.265058551\n",
      "Promedio de duración de viajes para ciclistas ocasionales: 0 days 00:22:55.378773149\n"
     ]
    }
   ],
   "source": [
    "\n",
    "\n",
    "# Calcular el promedio de la duración de los viajes para miembros\n",
    "avg_members = c_all_trips[c_all_trips['member_casual'] == 'member']['ride_time'].mean()\n",
    "\n",
    "# Calcular el promedio de la duración de los viajes para ciclistas ocasionales\n",
    "avg_casual = c_all_trips[c_all_trips['member_casual'] == 'casual']['ride_time'].mean()\n",
    "\n",
    "print(\"Promedio de duración de viajes para miembros:\", avg_members)\n",
    "print(\"Promedio de duración de viajes para ciclistas ocasionales:\", avg_casual)\n"
   ]
  },
  {
   "cell_type": "markdown",
   "metadata": {},
   "source": [
    "## 5. Cantidad de viajes por dia de la semana realizadas por usuarios casuales y habituales. "
   ]
  },
  {
   "cell_type": "markdown",
   "metadata": {},
   "source": [
    "Agrupar los datos por día de la semana y calcular el promedio de ride_time para cada grupo"
   ]
  },
  {
   "cell_type": "code",
   "execution_count": 54,
   "metadata": {},
   "outputs": [
    {
     "name": "stdout",
     "output_type": "stream",
     "text": [
      "Promedio de ride_time por día de la semana:\n",
      "weekday\n",
      "Friday      0 days 00:15:48.417335823\n",
      "Monday      0 days 00:14:57.789296344\n",
      "Saturday    0 days 00:19:24.464902817\n",
      "Sunday      0 days 00:19:30.229595192\n",
      "Thursday    0 days 00:14:08.265698628\n",
      "Tuesday     0 days 00:14:11.144616200\n",
      "Wednesday   0 days 00:13:54.616433127\n",
      "Name: ride_time, dtype: timedelta64[ns]\n"
     ]
    }
   ],
   "source": [
    "avg_ride_time_day = c_all_trips.groupby('weekday')['ride_time'].mean()\n",
    "\n",
    "print(\"Promedio de ride_time por día de la semana:\")\n",
    "print(avg_ride_time_day)"
   ]
  },
  {
   "cell_type": "markdown",
   "metadata": {},
   "source": [
    "Agrupar los datos por día de la semana y calcular el recuento de trip_id para cada grupo"
   ]
  },
  {
   "cell_type": "code",
   "execution_count": 78,
   "metadata": {},
   "outputs": [
    {
     "name": "stdout",
     "output_type": "stream",
     "text": [
      "Número de viajes por día de la semana:\n",
      "weekday\n",
      "Friday       619561\n",
      "Monday       559734\n",
      "Saturday     654440\n",
      "Sunday       556462\n",
      "Thursday     651076\n",
      "Tuesday      629964\n",
      "Wednesday    628730\n",
      "Name: ride_id, dtype: int64\n"
     ]
    }
   ],
   "source": [
    "viajes_por_dia = c_all_trips.groupby('weekday')['ride_id'].count()\n",
    "\n",
    "print(\"Número de viajes por día de la semana:\")\n",
    "print(viajes_por_dia)\n"
   ]
  },
  {
   "cell_type": "markdown",
   "metadata": {},
   "source": [
    "Filtrar los datos para usuarios ocasionales ('casual')"
   ]
  },
  {
   "cell_type": "code",
   "execution_count": 82,
   "metadata": {},
   "outputs": [
    {
     "name": "stdout",
     "output_type": "stream",
     "text": [
      "Número de viajes por día de la semana para usuarios ocasionales agrupados por ride_id:\n",
      "weekday    member_casual\n",
      "Friday     casual           226195\n",
      "Monday     casual           175301\n",
      "Saturday   casual           308670\n",
      "Sunday     casual           253201\n",
      "Thursday   casual           199333\n",
      "Tuesday    casual           181877\n",
      "Wednesday  casual           181999\n",
      "Name: ride_id, dtype: int64\n"
     ]
    }
   ],
   "source": [
    "# Filtrar los datos para usuarios ocasionales ('casual')\n",
    "viajes_ocasionales = c_all_trips[c_all_trips['member_casual'] == 'casual']\n",
    "\n",
    "# Agrupar por día de la semana y contar los ride_id únicos para cada grupo\n",
    "viajes_por_dia_ocasionales = viajes_ocasionales.groupby(['weekday', 'member_casual'])['ride_id'].count()\n",
    "\n",
    "print(\"Número de viajes por día de la semana para usuarios ocasionales agrupados por ride_id:\")\n",
    "print(viajes_por_dia_ocasionales)\n",
    "\n",
    "\n",
    "\n"
   ]
  },
  {
   "cell_type": "markdown",
   "metadata": {},
   "source": [
    "Podemos observar que la mayor cantidad de viajes por miembros casuales se realiza Sabado y domingo "
   ]
  },
  {
   "cell_type": "markdown",
   "metadata": {},
   "source": [
    "Ahora filtramos los datos para miembros habituales ('member')"
   ]
  },
  {
   "cell_type": "code",
   "execution_count": 84,
   "metadata": {},
   "outputs": [
    {
     "name": "stdout",
     "output_type": "stream",
     "text": [
      "Número de viajes por día de la semana para usuarios habituales\n",
      "weekday    member_casual\n",
      "Friday     member           393366\n",
      "Monday     member           384433\n",
      "Saturday   member           345770\n",
      "Sunday     member           303261\n",
      "Thursday   member           451743\n",
      "Tuesday    member           448087\n",
      "Wednesday  member           446731\n",
      "Name: ride_id, dtype: int64\n"
     ]
    }
   ],
   "source": [
    "\n",
    "viajes_miembros  = c_all_trips[c_all_trips['member_casual'] == 'member']\n",
    "\n",
    "# Agrupar por día de la semana y contar los ride_id únicos para cada grupo\n",
    "viajes_por_dia_miembros = viajes_miembros.groupby(['weekday', 'member_casual'])['ride_id'].count()\n",
    "\n",
    "print(\"Número de viajes por día de la semana para usuarios habituales\")\n",
    "print(viajes_por_dia_miembros)"
   ]
  },
  {
   "cell_type": "markdown",
   "metadata": {},
   "source": [
    "Podemos observar que la mayor cantidad de viajes por miembros se realiza los dias martes, miercoles y jueves. "
   ]
  },
  {
   "cell_type": "markdown",
   "metadata": {},
   "source": [
    "# Conclusiones"
   ]
  },
  {
   "cell_type": "markdown",
   "metadata": {},
   "source": [
    "1. Total viajes 2023 = 4,299,967\n",
    "2. Promedio duracion de viaje 2023 = 16 minutos\n",
    "3. Dia con mayor cantidad de viajes sabado con 654,440\n",
    "4. Dia con menor cantida de viajes domingo con 556,462\n",
    "5. 64.5% de los viajes realizados por Miembros \n",
    "6. 35.5% de los viajes relizados por Casuales \n",
    "7. Promedio de duración de viajes para miembros: 12 minutos\n",
    "8. Promedio de duración de viajes para Casuales 23 minutos \n",
    "9. Dia de a semana con mas viajes por Casuales Sabado con 308,670 y  domingo con 253,201\n",
    "10. Dia de la semana con mas viajes por Miembros Jueves con 451,743 Martes con 448,087  y Miercoles con  446,731\n",
    "\n",
    "\n",
    "Sugerencias de acciones basadas en datos. \n",
    "\n",
    "1. Los datos muestran que los usuarios Casuales utilizan los servicios de bicicleta el sabdo y domingo, pero no entre semana, mientras que los Miembros utilizan mitad de semana. Lo que puede indicar que los casuales lo utilizan en dias de descanso y los miembros en días laborales. Lo que puede indicar que los miembros utilizan los servicios de bicicleta para trasladarse a su trabajo o a la escuela, habrá que realziar encuestas para indicar con que grado de probailidad se cumple. De ser así, una estrategiad de marketing para aumentar los miembros es incentivar a los casuales a utilizar la bicicleta entre semana para trasladarse en bicicleta al trabajo o escuela. \n",
    "\n",
    "2. Incentivar el uso de la bicileta entre semana tambien añadiendo descuentos para usuarios ocacionales entre semana.\n",
    "\n",
    "\n"
   ]
  }
 ],
 "metadata": {
  "kernelspec": {
   "display_name": "Python 3",
   "language": "python",
   "name": "python3"
  },
  "language_info": {
   "codemirror_mode": {
    "name": "ipython",
    "version": 3
   },
   "file_extension": ".py",
   "mimetype": "text/x-python",
   "name": "python",
   "nbconvert_exporter": "python",
   "pygments_lexer": "ipython3",
   "version": "3.9.6"
  }
 },
 "nbformat": 4,
 "nbformat_minor": 2
}
